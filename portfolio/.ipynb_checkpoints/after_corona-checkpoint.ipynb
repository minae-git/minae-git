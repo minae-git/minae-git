{
 "cells": [
  {
   "cell_type": "code",
   "execution_count": 125,
   "metadata": {},
   "outputs": [],
   "source": [
    "import json\n",
    "import pandas as pd\n",
    "import numpy as np\n",
    "import plotly."
   ]
  },
  {
   "cell_type": "code",
   "execution_count": 2,
   "metadata": {},
   "outputs": [
    {
     "name": "stdout",
     "output_type": "stream",
     "text": [
      "Collecting plotly\n",
      "  Downloading plotly-4.14.3-py2.py3-none-any.whl (13.2 MB)\n",
      "Requirement already satisfied: six in c:\\users\\minae2324\\appdata\\roaming\\python\\python37\\site-packages (from plotly) (1.15.0)\n",
      "Collecting retrying>=1.3.3\n",
      "  Downloading retrying-1.3.3.tar.gz (10 kB)\n",
      "Building wheels for collected packages: retrying\n",
      "  Building wheel for retrying (setup.py): started\n",
      "  Building wheel for retrying (setup.py): finished with status 'done'\n",
      "  Created wheel for retrying: filename=retrying-1.3.3-py3-none-any.whl size=11429 sha256=6151d7c335b7e47cfb9ca339aa31c01d06bf116c4c76d25dc098e1f9c9323d62\n",
      "  Stored in directory: c:\\users\\minae2324\\appdata\\local\\pip\\cache\\wheels\\f9\\8d\\8d\\f6af3f7f9eea3553bc2fe6d53e4b287dad18b06a861ac56ddf\n",
      "Successfully built retrying\n",
      "Installing collected packages: retrying, plotly\n",
      "Successfully installed plotly-4.14.3 retrying-1.3.3\n"
     ]
    }
   ],
   "source": [
    "# !pip install plotly"
   ]
  },
  {
   "cell_type": "code",
   "execution_count": 119,
   "metadata": {},
   "outputs": [],
   "source": [
    "def csvs_to_df(dirpath):\n",
    "    result_df = pd.DataFrame()\n",
    "    \n",
    "    for file in os.listdir(dirpath):\n",
    "        if file.endswith(\".csv\"):\n",
    "            \n",
    "            filepath = os.path.join(dirpath, file)\n",
    "            \n",
    "            try:\n",
    "                df_part = pd.read_csv(filepath, encoding='cp949', index_col=False)\n",
    "            except:\n",
    "                df_part = pd.read_csv(filepath, encoding='utf-8', index_col=False)\n",
    "                pass\n",
    "            # print(df_part.head(), \"\\n\", df_part.shape)\n",
    "            \n",
    "        \n",
    "        result_df = result_df.append(df_part, ignore_index=True)\n",
    "        # print(result_df.shape)\n",
    "    \n",
    "    return result_df"
   ]
  },
  {
   "cell_type": "code",
   "execution_count": 120,
   "metadata": {},
   "outputs": [],
   "source": [
    "passengers_by_st = csvs_to_df(\"./api_data/sub\")"
   ]
  },
  {
   "cell_type": "code",
   "execution_count": 121,
   "metadata": {},
   "outputs": [
    {
     "data": {
      "text/html": [
       "<div>\n",
       "<style scoped>\n",
       "    .dataframe tbody tr th:only-of-type {\n",
       "        vertical-align: middle;\n",
       "    }\n",
       "\n",
       "    .dataframe tbody tr th {\n",
       "        vertical-align: top;\n",
       "    }\n",
       "\n",
       "    .dataframe thead th {\n",
       "        text-align: right;\n",
       "    }\n",
       "</style>\n",
       "<table border=\"1\" class=\"dataframe\">\n",
       "  <thead>\n",
       "    <tr style=\"text-align: right;\">\n",
       "      <th></th>\n",
       "      <th>사용일자</th>\n",
       "      <th>노선명</th>\n",
       "      <th>역명</th>\n",
       "      <th>승차총승객수</th>\n",
       "      <th>하차총승객수</th>\n",
       "      <th>등록일자</th>\n",
       "      <th>역ID</th>\n",
       "    </tr>\n",
       "  </thead>\n",
       "  <tbody>\n",
       "    <tr>\n",
       "      <th>0</th>\n",
       "      <td>20200201</td>\n",
       "      <td>1호선</td>\n",
       "      <td>시청</td>\n",
       "      <td>13966.0</td>\n",
       "      <td>14315.0</td>\n",
       "      <td>20200204.0</td>\n",
       "      <td>NaN</td>\n",
       "    </tr>\n",
       "    <tr>\n",
       "      <th>1</th>\n",
       "      <td>20200201</td>\n",
       "      <td>1호선</td>\n",
       "      <td>종각</td>\n",
       "      <td>24014.0</td>\n",
       "      <td>23628.0</td>\n",
       "      <td>20200204.0</td>\n",
       "      <td>NaN</td>\n",
       "    </tr>\n",
       "    <tr>\n",
       "      <th>2</th>\n",
       "      <td>20200201</td>\n",
       "      <td>1호선</td>\n",
       "      <td>종로3가</td>\n",
       "      <td>25613.0</td>\n",
       "      <td>24969.0</td>\n",
       "      <td>20200204.0</td>\n",
       "      <td>NaN</td>\n",
       "    </tr>\n",
       "    <tr>\n",
       "      <th>3</th>\n",
       "      <td>20200201</td>\n",
       "      <td>1호선</td>\n",
       "      <td>종로5가</td>\n",
       "      <td>19922.0</td>\n",
       "      <td>19765.0</td>\n",
       "      <td>20200204.0</td>\n",
       "      <td>NaN</td>\n",
       "    </tr>\n",
       "    <tr>\n",
       "      <th>4</th>\n",
       "      <td>20200201</td>\n",
       "      <td>1호선</td>\n",
       "      <td>동대문</td>\n",
       "      <td>11346.0</td>\n",
       "      <td>11210.0</td>\n",
       "      <td>20200204.0</td>\n",
       "      <td>NaN</td>\n",
       "    </tr>\n",
       "    <tr>\n",
       "      <th>...</th>\n",
       "      <td>...</td>\n",
       "      <td>...</td>\n",
       "      <td>...</td>\n",
       "      <td>...</td>\n",
       "      <td>...</td>\n",
       "      <td>...</td>\n",
       "      <td>...</td>\n",
       "    </tr>\n",
       "    <tr>\n",
       "      <th>180409</th>\n",
       "      <td>20201231</td>\n",
       "      <td>경의선</td>\n",
       "      <td>541</td>\n",
       "      <td>633.0</td>\n",
       "      <td>20210103.0</td>\n",
       "      <td>NaN</td>\n",
       "      <td>신촌</td>\n",
       "    </tr>\n",
       "    <tr>\n",
       "      <th>180410</th>\n",
       "      <td>20201231</td>\n",
       "      <td>경의선</td>\n",
       "      <td>2512</td>\n",
       "      <td>3329.0</td>\n",
       "      <td>20210103.0</td>\n",
       "      <td>NaN</td>\n",
       "      <td>서울역</td>\n",
       "    </tr>\n",
       "    <tr>\n",
       "      <th>180411</th>\n",
       "      <td>20201231</td>\n",
       "      <td>경원선</td>\n",
       "      <td>1522</td>\n",
       "      <td>1401.0</td>\n",
       "      <td>20210103.0</td>\n",
       "      <td>NaN</td>\n",
       "      <td>소요산</td>\n",
       "    </tr>\n",
       "    <tr>\n",
       "      <th>180412</th>\n",
       "      <td>20201231</td>\n",
       "      <td>경원선</td>\n",
       "      <td>1379</td>\n",
       "      <td>1589.0</td>\n",
       "      <td>20210103.0</td>\n",
       "      <td>NaN</td>\n",
       "      <td>동두천</td>\n",
       "    </tr>\n",
       "    <tr>\n",
       "      <th>180413</th>\n",
       "      <td>20201231</td>\n",
       "      <td>경원선</td>\n",
       "      <td>2155</td>\n",
       "      <td>2219.0</td>\n",
       "      <td>20210103.0</td>\n",
       "      <td>NaN</td>\n",
       "      <td>동두천중앙</td>\n",
       "    </tr>\n",
       "  </tbody>\n",
       "</table>\n",
       "<p>180414 rows × 7 columns</p>\n",
       "</div>"
      ],
      "text/plain": [
       "            사용일자  노선명    역명   승차총승객수      하차총승객수        등록일자    역ID\n",
       "0       20200201  1호선    시청  13966.0     14315.0  20200204.0    NaN\n",
       "1       20200201  1호선    종각  24014.0     23628.0  20200204.0    NaN\n",
       "2       20200201  1호선  종로3가  25613.0     24969.0  20200204.0    NaN\n",
       "3       20200201  1호선  종로5가  19922.0     19765.0  20200204.0    NaN\n",
       "4       20200201  1호선   동대문  11346.0     11210.0  20200204.0    NaN\n",
       "...          ...  ...   ...      ...         ...         ...    ...\n",
       "180409  20201231  경의선   541    633.0  20210103.0         NaN     신촌\n",
       "180410  20201231  경의선  2512   3329.0  20210103.0         NaN    서울역\n",
       "180411  20201231  경원선  1522   1401.0  20210103.0         NaN    소요산\n",
       "180412  20201231  경원선  1379   1589.0  20210103.0         NaN    동두천\n",
       "180413  20201231  경원선  2155   2219.0  20210103.0         NaN  동두천중앙\n",
       "\n",
       "[180414 rows x 7 columns]"
      ]
     },
     "execution_count": 121,
     "metadata": {},
     "output_type": "execute_result"
    }
   ],
   "source": [
    "passengers_by_st"
   ]
  },
  {
   "cell_type": "code",
   "execution_count": 122,
   "metadata": {},
   "outputs": [],
   "source": [
    "passengers_by_st.columns = [\"use_dt\", \"line_num\", \"st_name\", \"ride_pasgr\", \"alight_pasgr\",\n",
    "                           \"work_dt\", \"st_id\"]"
   ]
  },
  {
   "cell_type": "code",
   "execution_count": 123,
   "metadata": {
    "scrolled": true
   },
   "outputs": [
    {
     "data": {
      "text/plain": [
       "array([20200201, 20200202, 20200203, 20200204, 20200205, 20200206,\n",
       "       20200207, 20200208, 20200209, 20200210, 20200211, 20200212,\n",
       "       20200213, 20200214, 20200215, 20200216, 20200217, 20200218,\n",
       "       20200219, 20200220, 20200221, 20200222, 20200223, 20200224,\n",
       "       20200225, 20200226, 20200227, 20200228, 20200229, 20200301,\n",
       "       20200302, 20200303, 20200304, 20200305, 20200306, 20200307,\n",
       "       20200308, 20200309, 20200310, 20200311, 20200312, 20200313,\n",
       "       20200314, 20200315, 20200316, 20200317, 20200318, 20200319,\n",
       "       20200320, 20200321, 20200322, 20200323, 20200324, 20200325,\n",
       "       20200326, 20200327, 20200328, 20200329, 20200330, 20200331,\n",
       "       20200401, 20200402, 20200403, 20200404, 20200405, 20200406,\n",
       "       20200407, 20200408, 20200409, 20200410, 20200411, 20200412,\n",
       "       20200413, 20200414, 20200415, 20200416, 20200417, 20200418,\n",
       "       20200419, 20200420, 20200421, 20200422, 20200423, 20200424,\n",
       "       20200425, 20200426, 20200427, 20200428, 20200429, 20200430,\n",
       "       20200501, 20200502, 20200503, 20200504, 20200505, 20200506,\n",
       "       20200507, 20200508, 20200509, 20200510, 20200511, 20200512,\n",
       "       20200513, 20200514, 20200515, 20200516, 20200517, 20200518,\n",
       "       20200519, 20200520, 20200521, 20200522, 20200523, 20200524,\n",
       "       20200525, 20200526, 20200527, 20200528, 20200529, 20200530,\n",
       "       20200531, 20200601, 20200602, 20200603, 20200604, 20200605,\n",
       "       20200606, 20200607, 20200608, 20200609, 20200610, 20200611,\n",
       "       20200612, 20200613, 20200614, 20200615, 20200616, 20200617,\n",
       "       20200618, 20200619, 20200620, 20200621, 20200622, 20200623,\n",
       "       20200624, 20200625, 20200626, 20200627, 20200628, 20200629,\n",
       "       20200630, 20200801, 20200802, 20200803, 20200804, 20200805,\n",
       "       20200806, 20200807, 20200808, 20200809, 20200810, 20200811,\n",
       "       20200812, 20200813, 20200814, 20200815, 20200816, 20200817,\n",
       "       20200818, 20200819, 20200820, 20200821, 20200822, 20200823,\n",
       "       20200824, 20200825, 20200826, 20200827, 20200828, 20200829,\n",
       "       20200830, 20200831, 20200901, 20200902, 20200903, 20200904,\n",
       "       20200905, 20200906, 20200907, 20200908, 20200909, 20200910,\n",
       "       20200911, 20200912, 20200913, 20200914, 20200915, 20200916,\n",
       "       20200917, 20200918, 20200919, 20200920, 20200921, 20200922,\n",
       "       20200923, 20200924, 20200925, 20200926, 20200927, 20200928,\n",
       "       20200929, 20200930, 20201001, 20201002, 20201003, 20201004,\n",
       "       20201005, 20201006, 20201007, 20201008, 20201009, 20201010,\n",
       "       20201011, 20201012, 20201013, 20201014, 20201015, 20201016,\n",
       "       20201017, 20201018, 20201019, 20201020, 20201021, 20201022,\n",
       "       20201023, 20201024, 20201025, 20201026, 20201027, 20201028,\n",
       "       20201029, 20201030, 20201031, 20201101, 20201102, 20201103,\n",
       "       20201104, 20201105, 20201106, 20201107, 20201108, 20201109,\n",
       "       20201110, 20201111, 20201112, 20201113, 20201114, 20201115,\n",
       "       20201116, 20201117, 20201118, 20201119, 20201120, 20201121,\n",
       "       20201122, 20201123, 20201124, 20201125, 20201126, 20201127,\n",
       "       20201128, 20201129, 20201130, 20201201, 20201202, 20201203,\n",
       "       20201204, 20201205, 20201206, 20201207, 20201208, 20201209,\n",
       "       20201210, 20201211, 20201212, 20201213, 20201214, 20201215,\n",
       "       20201216, 20201217, 20201218, 20201219, 20201220, 20201221,\n",
       "       20201222, 20201223, 20201224, 20201225, 20201226, 20201227,\n",
       "       20201228, 20201229, 20201230, 20201231], dtype=int64)"
      ]
     },
     "execution_count": 123,
     "metadata": {},
     "output_type": "execute_result"
    }
   ],
   "source": [
    "passengers_by_st.use_dt.unique()"
   ]
  },
  {
   "cell_type": "code",
   "execution_count": 124,
   "metadata": {},
   "outputs": [
    {
     "data": {
      "text/plain": [
       "array(['시청', '종각', '종로3가', ..., 28487, 25286, 19833], dtype=object)"
      ]
     },
     "execution_count": 124,
     "metadata": {},
     "output_type": "execute_result"
    }
   ],
   "source": [
    "passengers_by_st.st_name.unique()"
   ]
  },
  {
   "cell_type": "code",
   "execution_count": 127,
   "metadata": {
    "scrolled": true
   },
   "outputs": [
    {
     "data": {
      "text/plain": [
       "array([nan, '개화산', '불광', '신도림', '연신내', '구파발', '지축', '용두(동대문구청)', '신정네거리',\n",
       "       '양천구청', '도림천', '신설동', '신답', '용답', '대림(구로구청)', '구로디지털단지', '신대방',\n",
       "       '신림', '봉천', '서울대입구(관악구청)', '낙성대(강감찬)', '사당', '방배', '서초',\n",
       "       '교대(법원.검찰청)', '강남', '역삼', '선릉', '삼성(무역센터)', '종합운동장', '잠실새내',\n",
       "       '잠실(송파구청)', '잠실나루', '강변(동서울터미널)', '구의(광진구청)', '건대입구', '성수', '뚝섬',\n",
       "       '한양대', '왕십리(성동구청)', '상왕십리', '신당', '동대문역사문화공원(DDP)', '을지로4가',\n",
       "       '을지로3가', '을지로입구', '시청', '동묘앞', '청량리(서울시립대입구)', '제기동', '동대문',\n",
       "       '종로5가', '종로3가', '종각', '서울역', '충정로(경기대입구)', '문래', '영등포구청', '당산',\n",
       "       '합정', '홍대입구', '신촌', '이대', '아현', '남태령', '총신대입구(이수)', '동작(현충원)',\n",
       "       '이촌(국립중앙박물관)', '신용산', '삼각지', '숙대입구(갈월)', '회현(남대문시장)', '명동', '충무로',\n",
       "       '혜화', '한성대입구(삼선교)', '성신여대입구(돈암)', '길음', '미아사거리', '미아(서울사이버대학)',\n",
       "       '수유(강북구청)', '쌍문', '창동', '노원', '상계', '당고개', '오금', '경찰병원', '가락시장',\n",
       "       '수서', '일원', '대청', '학여울', '대치', '도곡', '매봉', '양재(서초구청)',\n",
       "       '남부터미널(예술의전당)', '고속터미널', '잠원', '신사', '압구정', '옥수', '금호', '약수',\n",
       "       '동대입구', '안국', '경복궁(정부서울청사)', '독립문', '무악재', '홍제', '녹번', '지평', '용문',\n",
       "       '원덕', '양평', '오빈', '방화', '아신', '국수', '신원', '양수', '운길산', '팔당', '도심',\n",
       "       '덕소', '양정', '도농', '구리', '양원', '망우', '상봉(시외버스터미널)', '중랑', '회기',\n",
       "       '신창(순천향대)', '온양온천', '배방', '아산', '쌍용(나사렛대)', '봉명', '대화', '주엽',\n",
       "       '정발산', '마두', '백석', '대곡', '화정', '원당', '삼송', '원흥', '보문', '정릉',\n",
       "       '북한산보국문', '솔샘', '삼양사거리', '삼양', '화계', '가오리', '4.19민주묘지', '솔밭공원',\n",
       "       '북한산우이', '수리산', '오이도', '정왕', '신길온천', '안산', '초지', '고잔', '중앙', '한대앞',\n",
       "       '상록수', '반월', '대야미', '산본', '인천', '신포', '숭의', '인하대', '송도', '연수',\n",
       "       '원인재', '남동인더스파크', '호구포', '인천논현', '소래포구', '월곶', '달월', '매교', '수원시청',\n",
       "       '매탄권선', '망포', '영통', '청명', '상갈', '기흥', '신갈', '구성', '죽전', '보정', '이매',\n",
       "       '오리', '미금', '정자', '수내', '서현', '야탑', '모란', '태평', '가천대', '선정릉',\n",
       "       '강남구청', '압구정로데오', '서울숲', '수원', '복정', '대모산입구', '개포동', '구룡', '한티',\n",
       "       '범계', '평촌', '인덕원', '정부과천청사', '과천', '대공원', '경마공원', '선바위', '영종',\n",
       "       '인천공항2터미널', '인천공항1터미널', '공항화물청사', '운서', '청라국제도시', '검암', '계양',\n",
       "       '김포공항', '마곡나루(서울식물원)', '디지털미디어시티', '공덕', '춘천', '남춘천', '김유정', '강촌',\n",
       "       '백양리', '굴봉산', '가평', '상천', '청평', '대성리', '마석', '천마산', '평내호평', '금곡',\n",
       "       '사릉', '퇴계원', '별내', '갈매', '신내', '도화', '중동', '온수(성공회대입구)', '도원',\n",
       "       '간석', '부개', '소사', '구일', '동인천', '제물포', '주안', '동암', '백운', '부평', '송내',\n",
       "       '부천', '역곡', '오류동', '개봉', '임진강', '문산', '파주', '월롱', '금촌', '금릉', '운정',\n",
       "       '야당', '탄현', '일산', '풍산', '백마', '곡산', '능곡', '행신', '강매', '화전', '수색',\n",
       "       '가좌', '서강대', '효창공원앞', '소요산', '동두천', '보산', '동두천중앙', '지행', '덕정',\n",
       "       '덕계', '양주', '녹양', '가능', '의정부', '회룡', '망월사', '도봉산', '도봉', '방학',\n",
       "       '녹천', '월계', '광운대', '석계', '신이문', '외대앞', '응봉', '한남', '서빙고', '광명',\n",
       "       '서동탄', '당정', '천안', '두정', '직산', '성환', '평택', '지제', '서정리', '송탄', '진위',\n",
       "       '오산', '오산대', '세마', '병점', '세류', '독산', '화서', '성균관대', '의왕', '군포',\n",
       "       '금정', '명학', '안양', '관악', '석수', '금천구청', '가산디지털단지', '구로', '신길', '영등포',\n",
       "       '대방', '노량진', '용산', '남영', '여주', '세종대왕릉', '부발', '이천', '신둔도예촌', '곤지암',\n",
       "       '초월', '경기광주', '삼동', '판교', '중앙보훈병원', '둔촌오륜', '올림픽공원(한국체대)', '한성백제',\n",
       "       '송파나루', '석촌', '석촌고분', '삼전', '봉은사', '삼성중앙', '언주', '신논현', '사평',\n",
       "       '신반포', '구반포', '흑석(중앙대입구)', '노들', '샛강', '여의도', '국회의사당', '선유도',\n",
       "       '신목동', '염창', '등촌', '증미', '가양', '양천향교', '신방화', '공항시장', '개화', '수진',\n",
       "       '신흥', '단대오거리', '남한산성입구(성남법원.검찰청)', '산성', '장지', '문정', '송파',\n",
       "       '몽촌토성(평화의문)', '강동구청', '천호(풍납토성)', '암사', '부평구청', '굴포천', '삼산체육관',\n",
       "       '상동', '부천시청', '신중동', '춘의', '부천종합운동장', '까치울', '천왕', '광명사거리', '철산',\n",
       "       '남구로', '신풍', '보라매', '신대방삼거리', '장승배기', '상도', '숭실대입구(살피재)', '남성',\n",
       "       '이수', '내방', '반포', '논현', '학동', '청담', '뚝섬유원지', '어린이대공원(세종대)',\n",
       "       '군자(능동)', '중곡', '용마산(용마폭포공원)', '사가정', '면목', '중화', '먹골', '태릉입구',\n",
       "       '공릉(서울과학기술대)', '하계', '중계', '마들', '수락산', '장암', '봉화산(서울의료원)',\n",
       "       '화랑대(서울여대입구)', '돌곶이', '상월곡(한국과학기술연구원)', '월곡(동덕여대)', '고려대(종암)',\n",
       "       '안암(고대병원앞)', '창신', '청구', '버티고개', '한강진', '이태원', '녹사평(용산구청)',\n",
       "       '대흥(서강대앞)', '광흥창(서강)', '상수', '망원', '마포구청', '월드컵경기장(성산)',\n",
       "       '증산(명지대앞)', '새절(신사)', '구산', '독바위', '역촌', '응암', '마천', '거여', '개롱',\n",
       "       '방이', '둔촌동', '상일동', '고덕', '명일', '굽은다리(강동구민회관앞)', '길동', '강동',\n",
       "       '광나루(장신대)', '아차산(어린이대공원후문)', '장한평', '답십리', '마장', '행당', '신금호',\n",
       "       '광화문(세종문화회관)', '서대문', '애오개', '마포', '여의나루', '영등포시장', '오목교(목동운동장앞)',\n",
       "       '목동', '신정(은행정)', '까치산', '화곡', '우장산', '발산', '마곡', '송정', '미사',\n",
       "       '하남풍산', '사리', '야목', '어천', '오목천', '고색'], dtype=object)"
      ]
     },
     "execution_count": 127,
     "metadata": {},
     "output_type": "execute_result"
    }
   ],
   "source": [
    "passengers_by_st.st_id.unique()"
   ]
  },
  {
   "cell_type": "code",
   "execution_count": 129,
   "metadata": {},
   "outputs": [],
   "source": [
    "passengers_by_st_end = passengers_by_st[~passengers_by_st.st_id.isna()]\n",
    "passengers_by_st_front = passengers_by_st[passengers_by_st.st_id.isna()]"
   ]
  },
  {
   "cell_type": "code",
   "execution_count": 130,
   "metadata": {},
   "outputs": [],
   "source": [
    "passengers_by_st_end.columns = [\"use_dt\", \"line_num\", \"ride_pasgr\",\n",
    "                                \"alight_pasgr\", \"work_dt\", \"st_id\", \"st_name\"]"
   ]
  },
  {
   "cell_type": "code",
   "execution_count": 131,
   "metadata": {},
   "outputs": [
    {
     "data": {
      "text/plain": [
       "array([nan])"
      ]
     },
     "execution_count": 131,
     "metadata": {},
     "output_type": "execute_result"
    }
   ],
   "source": [
    "passengers_by_st_end.st_id.unique()"
   ]
  },
  {
   "cell_type": "code",
   "execution_count": 132,
   "metadata": {},
   "outputs": [],
   "source": [
    "passengers_by_st = passengers_by_st_front.append(passengers_by_st_end)"
   ]
  },
  {
   "cell_type": "code",
   "execution_count": 133,
   "metadata": {},
   "outputs": [],
   "source": [
    "passengers_by_st.drop(['st_id', 'work_dt'], inplace=True, axis=1)"
   ]
  },
  {
   "cell_type": "code",
   "execution_count": 149,
   "metadata": {},
   "outputs": [
    {
     "name": "stdout",
     "output_type": "stream",
     "text": [
      "<class 'pandas.core.frame.DataFrame'>\n",
      "Int64Index: 180414 entries, 0 to 180413\n",
      "Data columns (total 5 columns):\n",
      " #   Column        Non-Null Count   Dtype \n",
      "---  ------        --------------   ----- \n",
      " 0   use_dt        180414 non-null  int64 \n",
      " 1   line_num      180414 non-null  object\n",
      " 2   st_name       180414 non-null  object\n",
      " 3   ride_pasgr    180414 non-null  int32 \n",
      " 4   alight_pasgr  180414 non-null  int32 \n",
      "dtypes: int32(2), int64(1), object(2)\n",
      "memory usage: 6.9+ MB\n"
     ]
    }
   ],
   "source": [
    "passengers_by_st.info()"
   ]
  },
  {
   "cell_type": "code",
   "execution_count": 150,
   "metadata": {},
   "outputs": [],
   "source": [
    "passengers_by_st.use_dt = pd.to_datetime(passengers_by_st.use_dt, format=\"%Y%m%d\")"
   ]
  },
  {
   "cell_type": "code",
   "execution_count": 148,
   "metadata": {},
   "outputs": [],
   "source": [
    "passengers_by_st.alight_pasgr = passengers_by_st.alight_pasgr.astype(int)\n",
    "passengers_by_st.ride_pasgr = passengers_by_st.ride_pasgr.astype(int)"
   ]
  },
  {
   "cell_type": "code",
   "execution_count": 151,
   "metadata": {},
   "outputs": [
    {
     "name": "stdout",
     "output_type": "stream",
     "text": [
      "<class 'pandas.core.frame.DataFrame'>\n",
      "Int64Index: 180414 entries, 0 to 180413\n",
      "Data columns (total 5 columns):\n",
      " #   Column        Non-Null Count   Dtype         \n",
      "---  ------        --------------   -----         \n",
      " 0   use_dt        180414 non-null  datetime64[ns]\n",
      " 1   line_num      180414 non-null  object        \n",
      " 2   st_name       180414 non-null  object        \n",
      " 3   ride_pasgr    180414 non-null  int32         \n",
      " 4   alight_pasgr  180414 non-null  int32         \n",
      "dtypes: datetime64[ns](1), int32(2), object(2)\n",
      "memory usage: 6.9+ MB\n"
     ]
    }
   ],
   "source": [
    "passengers_by_st.info()"
   ]
  },
  {
   "cell_type": "code",
   "execution_count": 220,
   "metadata": {},
   "outputs": [
    {
     "data": {
      "text/html": [
       "<div>\n",
       "<style scoped>\n",
       "    .dataframe tbody tr th:only-of-type {\n",
       "        vertical-align: middle;\n",
       "    }\n",
       "\n",
       "    .dataframe tbody tr th {\n",
       "        vertical-align: top;\n",
       "    }\n",
       "\n",
       "    .dataframe thead th {\n",
       "        text-align: right;\n",
       "    }\n",
       "</style>\n",
       "<table border=\"1\" class=\"dataframe\">\n",
       "  <thead>\n",
       "    <tr style=\"text-align: right;\">\n",
       "      <th></th>\n",
       "      <th>use_dt</th>\n",
       "      <th>line_num</th>\n",
       "      <th>st_name</th>\n",
       "      <th>ride_pasgr</th>\n",
       "      <th>alight_pasgr</th>\n",
       "    </tr>\n",
       "  </thead>\n",
       "  <tbody>\n",
       "    <tr>\n",
       "      <th>0</th>\n",
       "      <td>2020-02-01</td>\n",
       "      <td>1호선</td>\n",
       "      <td>시청</td>\n",
       "      <td>13966</td>\n",
       "      <td>14315</td>\n",
       "    </tr>\n",
       "    <tr>\n",
       "      <th>1</th>\n",
       "      <td>2020-02-01</td>\n",
       "      <td>1호선</td>\n",
       "      <td>종각</td>\n",
       "      <td>24014</td>\n",
       "      <td>23628</td>\n",
       "    </tr>\n",
       "    <tr>\n",
       "      <th>2</th>\n",
       "      <td>2020-02-01</td>\n",
       "      <td>1호선</td>\n",
       "      <td>종로3가</td>\n",
       "      <td>25613</td>\n",
       "      <td>24969</td>\n",
       "    </tr>\n",
       "    <tr>\n",
       "      <th>3</th>\n",
       "      <td>2020-02-01</td>\n",
       "      <td>1호선</td>\n",
       "      <td>종로5가</td>\n",
       "      <td>19922</td>\n",
       "      <td>19765</td>\n",
       "    </tr>\n",
       "    <tr>\n",
       "      <th>4</th>\n",
       "      <td>2020-02-01</td>\n",
       "      <td>1호선</td>\n",
       "      <td>동대문</td>\n",
       "      <td>11346</td>\n",
       "      <td>11210</td>\n",
       "    </tr>\n",
       "    <tr>\n",
       "      <th>5</th>\n",
       "      <td>2020-02-01</td>\n",
       "      <td>1호선</td>\n",
       "      <td>신설동</td>\n",
       "      <td>10517</td>\n",
       "      <td>10085</td>\n",
       "    </tr>\n",
       "    <tr>\n",
       "      <th>6</th>\n",
       "      <td>2020-02-01</td>\n",
       "      <td>1호선</td>\n",
       "      <td>제기동</td>\n",
       "      <td>14752</td>\n",
       "      <td>14975</td>\n",
       "    </tr>\n",
       "    <tr>\n",
       "      <th>7</th>\n",
       "      <td>2020-02-01</td>\n",
       "      <td>1호선</td>\n",
       "      <td>청량리(서울시립대입구)</td>\n",
       "      <td>18700</td>\n",
       "      <td>19210</td>\n",
       "    </tr>\n",
       "    <tr>\n",
       "      <th>8</th>\n",
       "      <td>2020-02-01</td>\n",
       "      <td>1호선</td>\n",
       "      <td>동묘앞</td>\n",
       "      <td>10003</td>\n",
       "      <td>10716</td>\n",
       "    </tr>\n",
       "    <tr>\n",
       "      <th>9</th>\n",
       "      <td>2020-02-01</td>\n",
       "      <td>2호선</td>\n",
       "      <td>시청</td>\n",
       "      <td>10021</td>\n",
       "      <td>8610</td>\n",
       "    </tr>\n",
       "  </tbody>\n",
       "</table>\n",
       "</div>"
      ],
      "text/plain": [
       "      use_dt line_num       st_name  ride_pasgr  alight_pasgr\n",
       "0 2020-02-01      1호선            시청       13966         14315\n",
       "1 2020-02-01      1호선            종각       24014         23628\n",
       "2 2020-02-01      1호선          종로3가       25613         24969\n",
       "3 2020-02-01      1호선          종로5가       19922         19765\n",
       "4 2020-02-01      1호선           동대문       11346         11210\n",
       "5 2020-02-01      1호선           신설동       10517         10085\n",
       "6 2020-02-01      1호선           제기동       14752         14975\n",
       "7 2020-02-01      1호선  청량리(서울시립대입구)       18700         19210\n",
       "8 2020-02-01      1호선           동묘앞       10003         10716\n",
       "9 2020-02-01      2호선            시청       10021          8610"
      ]
     },
     "execution_count": 220,
     "metadata": {},
     "output_type": "execute_result"
    }
   ],
   "source": [
    "passengers_by_st.head(10)"
   ]
  },
  {
   "cell_type": "code",
   "execution_count": 224,
   "metadata": {},
   "outputs": [
    {
     "data": {
      "text/plain": [
       "array(['1호선', '2호선', '3호선', '4호선', '경부선', '경인선', '경원선', '안산선', '과천선',\n",
       "       '분당선', '일산선', '중앙선', '장항선', '경의선', '경춘선', '수인선', '경강선', '5호선',\n",
       "       '6호선', '7호선', '8호선', '9호선', '공항철도 1호선', '9호선2~3단계', '우이신설선'],\n",
       "      dtype=object)"
      ]
     },
     "execution_count": 224,
     "metadata": {},
     "output_type": "execute_result"
    }
   ],
   "source": [
    "passengers_by_st.line_num.unique()"
   ]
  },
  {
   "cell_type": "code",
   "execution_count": 227,
   "metadata": {},
   "outputs": [],
   "source": [
    "passengers_by_st.line_num = passengers_by_st.line_num.str.replace(\"9호선2~3단계\", \"9호선\")"
   ]
  },
  {
   "cell_type": "code",
   "execution_count": 228,
   "metadata": {},
   "outputs": [
    {
     "data": {
      "text/plain": [
       "array(['1호선', '2호선', '3호선', '4호선', '경부선', '경인선', '경원선', '안산선', '과천선',\n",
       "       '분당선', '일산선', '중앙선', '장항선', '경의선', '경춘선', '수인선', '경강선', '5호선',\n",
       "       '6호선', '7호선', '8호선', '9호선', '공항철도 1호선', '우이신설선'], dtype=object)"
      ]
     },
     "execution_count": 228,
     "metadata": {},
     "output_type": "execute_result"
    }
   ],
   "source": [
    "passengers_by_st.line_num.unique()"
   ]
  },
  {
   "cell_type": "code",
   "execution_count": 229,
   "metadata": {},
   "outputs": [],
   "source": [
    "sum_pasgr_by_line_dt = passengers_by_st.groupby(['use_dt', 'line_num']).sum()"
   ]
  },
  {
   "cell_type": "code",
   "execution_count": 230,
   "metadata": {},
   "outputs": [],
   "source": [
    "sum_pasgr_by_line_dt = sum_pasgr_by_line_dt.reset_index()"
   ]
  },
  {
   "cell_type": "code",
   "execution_count": 232,
   "metadata": {},
   "outputs": [
    {
     "data": {
      "text/plain": [
       "Index(['use_dt', 'line_num', 'ride_pasgr', 'alight_pasgr'], dtype='object')"
      ]
     },
     "execution_count": 232,
     "metadata": {},
     "output_type": "execute_result"
    }
   ],
   "source": [
    "sum_pasgr_by_line_dt.columns"
   ]
  },
  {
   "cell_type": "code",
   "execution_count": 235,
   "metadata": {},
   "outputs": [
    {
     "data": {
      "text/plain": [
       "array(['1호선', '2호선', '3호선', '4호선', '5호선', '6호선', '7호선', '8호선', '9호선',\n",
       "       '경강선', '경부선', '경원선', '경의선', '경인선', '경춘선', '공항철도 1호선', '과천선', '분당선',\n",
       "       '수인선', '안산선', '우이신설선', '일산선', '장항선', '중앙선'], dtype=object)"
      ]
     },
     "execution_count": 235,
     "metadata": {},
     "output_type": "execute_result"
    }
   ],
   "source": [
    "sum_pasgr_by_line_dt.line_num.unique()"
   ]
  },
  {
   "cell_type": "code",
   "execution_count": 245,
   "metadata": {},
   "outputs": [
    {
     "data": {
      "text/html": [
       "<div>\n",
       "<style scoped>\n",
       "    .dataframe tbody tr th:only-of-type {\n",
       "        vertical-align: middle;\n",
       "    }\n",
       "\n",
       "    .dataframe tbody tr th {\n",
       "        vertical-align: top;\n",
       "    }\n",
       "\n",
       "    .dataframe thead th {\n",
       "        text-align: right;\n",
       "    }\n",
       "</style>\n",
       "<table border=\"1\" class=\"dataframe\">\n",
       "  <thead>\n",
       "    <tr style=\"text-align: right;\">\n",
       "      <th></th>\n",
       "      <th>use_dt</th>\n",
       "      <th>line_num</th>\n",
       "      <th>ride_pasgr</th>\n",
       "      <th>alight_pasgr</th>\n",
       "    </tr>\n",
       "  </thead>\n",
       "  <tbody>\n",
       "    <tr>\n",
       "      <th>0</th>\n",
       "      <td>2020-02-01</td>\n",
       "      <td>1호선</td>\n",
       "      <td>183208</td>\n",
       "      <td>181943</td>\n",
       "    </tr>\n",
       "    <tr>\n",
       "      <th>1</th>\n",
       "      <td>2020-02-01</td>\n",
       "      <td>2호선</td>\n",
       "      <td>999375</td>\n",
       "      <td>1017568</td>\n",
       "    </tr>\n",
       "    <tr>\n",
       "      <th>2</th>\n",
       "      <td>2020-02-01</td>\n",
       "      <td>3호선</td>\n",
       "      <td>382188</td>\n",
       "      <td>381864</td>\n",
       "    </tr>\n",
       "    <tr>\n",
       "      <th>3</th>\n",
       "      <td>2020-02-01</td>\n",
       "      <td>4호선</td>\n",
       "      <td>375066</td>\n",
       "      <td>381480</td>\n",
       "    </tr>\n",
       "    <tr>\n",
       "      <th>4</th>\n",
       "      <td>2020-02-01</td>\n",
       "      <td>5호선</td>\n",
       "      <td>386565</td>\n",
       "      <td>381304</td>\n",
       "    </tr>\n",
       "    <tr>\n",
       "      <th>...</th>\n",
       "      <td>...</td>\n",
       "      <td>...</td>\n",
       "      <td>...</td>\n",
       "      <td>...</td>\n",
       "    </tr>\n",
       "    <tr>\n",
       "      <th>7276</th>\n",
       "      <td>2020-12-31</td>\n",
       "      <td>5호선</td>\n",
       "      <td>427885</td>\n",
       "      <td>424469</td>\n",
       "    </tr>\n",
       "    <tr>\n",
       "      <th>7277</th>\n",
       "      <td>2020-12-31</td>\n",
       "      <td>6호선</td>\n",
       "      <td>223422</td>\n",
       "      <td>216727</td>\n",
       "    </tr>\n",
       "    <tr>\n",
       "      <th>7278</th>\n",
       "      <td>2020-12-31</td>\n",
       "      <td>7호선</td>\n",
       "      <td>491096</td>\n",
       "      <td>483138</td>\n",
       "    </tr>\n",
       "    <tr>\n",
       "      <th>7279</th>\n",
       "      <td>2020-12-31</td>\n",
       "      <td>8호선</td>\n",
       "      <td>132404</td>\n",
       "      <td>132582</td>\n",
       "    </tr>\n",
       "    <tr>\n",
       "      <th>7280</th>\n",
       "      <td>2020-12-31</td>\n",
       "      <td>9호선</td>\n",
       "      <td>240742</td>\n",
       "      <td>240686</td>\n",
       "    </tr>\n",
       "  </tbody>\n",
       "</table>\n",
       "<p>2736 rows × 4 columns</p>\n",
       "</div>"
      ],
      "text/plain": [
       "         use_dt line_num  ride_pasgr  alight_pasgr\n",
       "0    2020-02-01      1호선      183208        181943\n",
       "1    2020-02-01      2호선      999375       1017568\n",
       "2    2020-02-01      3호선      382188        381864\n",
       "3    2020-02-01      4호선      375066        381480\n",
       "4    2020-02-01      5호선      386565        381304\n",
       "...         ...      ...         ...           ...\n",
       "7276 2020-12-31      5호선      427885        424469\n",
       "7277 2020-12-31      6호선      223422        216727\n",
       "7278 2020-12-31      7호선      491096        483138\n",
       "7279 2020-12-31      8호선      132404        132582\n",
       "7280 2020-12-31      9호선      240742        240686\n",
       "\n",
       "[2736 rows x 4 columns]"
      ]
     },
     "execution_count": 245,
     "metadata": {},
     "output_type": "execute_result"
    }
   ],
   "source": [
    "seoul_pasgr_by_line_dt = sum_pasgr_by_line_dt[\n",
    "    sum_pasgr_by_line_dt.line_num.str.find(\"호선\")==1]\n",
    "seoul_pasgr_by_line_dt"
   ]
  },
  {
   "cell_type": "code",
   "execution_count": 255,
   "metadata": {},
   "outputs": [
    {
     "data": {
      "text/plain": [
       "5호선    304\n",
       "2호선    304\n",
       "4호선    304\n",
       "3호선    304\n",
       "8호선    304\n",
       "7호선    304\n",
       "1호선    304\n",
       "9호선    304\n",
       "6호선    304\n",
       "Name: line_num, dtype: int64"
      ]
     },
     "execution_count": 255,
     "metadata": {},
     "output_type": "execute_result"
    }
   ],
   "source": [
    "seoul_pasgr_by_line_dt.line_num.value_counts()"
   ]
  },
  {
   "cell_type": "code",
   "execution_count": 259,
   "metadata": {},
   "outputs": [
    {
     "data": {
      "text/html": [
       "<div>\n",
       "<style scoped>\n",
       "    .dataframe tbody tr th:only-of-type {\n",
       "        vertical-align: middle;\n",
       "    }\n",
       "\n",
       "    .dataframe tbody tr th {\n",
       "        vertical-align: top;\n",
       "    }\n",
       "\n",
       "    .dataframe thead th {\n",
       "        text-align: right;\n",
       "    }\n",
       "</style>\n",
       "<table border=\"1\" class=\"dataframe\">\n",
       "  <thead>\n",
       "    <tr style=\"text-align: right;\">\n",
       "      <th></th>\n",
       "      <th>use_dt</th>\n",
       "      <th>line_num</th>\n",
       "      <th>ride_pasgr</th>\n",
       "      <th>alight_pasgr</th>\n",
       "    </tr>\n",
       "  </thead>\n",
       "  <tbody>\n",
       "  </tbody>\n",
       "</table>\n",
       "</div>"
      ],
      "text/plain": [
       "Empty DataFrame\n",
       "Columns: [use_dt, line_num, ride_pasgr, alight_pasgr]\n",
       "Index: []"
      ]
     },
     "execution_count": 259,
     "metadata": {},
     "output_type": "execute_result"
    }
   ],
   "source": [
    "seoul_pasgr_by_line_dt[seoul_pasgr_by_line_dt.use_dt.apply(lambda x : x.month) == 7]"
   ]
  },
  {
   "cell_type": "code",
   "execution_count": 249,
   "metadata": {},
   "outputs": [],
   "source": [
    "pivot_seoul_pasgr = seoul_pasgr_by_line_dt.pivot(index=\"use_dt\", columns=\"line_num\",\n",
    "                             values=[\"ride_pasgr\", \"alight_pasgr\"])"
   ]
  },
  {
   "cell_type": "code",
   "execution_count": 251,
   "metadata": {},
   "outputs": [
    {
     "data": {
      "text/plain": [
       "use_dt\n",
       "2020-02-01    183208\n",
       "2020-02-02    124884\n",
       "2020-02-03    245181\n",
       "2020-02-04    248027\n",
       "2020-02-05    236711\n",
       "               ...  \n",
       "2020-12-27     66335\n",
       "2020-12-28    167604\n",
       "2020-12-29    165901\n",
       "2020-12-30    154835\n",
       "2020-12-31    152373\n",
       "Name: 1호선, Length: 304, dtype: int32"
      ]
     },
     "execution_count": 251,
     "metadata": {},
     "output_type": "execute_result"
    }
   ],
   "source": [
    "pivot_seoul_pasgr[\"ride_pasgr\"][\"1호선\"]"
   ]
  },
  {
   "cell_type": "code",
   "execution_count": 240,
   "metadata": {},
   "outputs": [],
   "source": [
    "import plotly.graph_objects as go"
   ]
  },
  {
   "cell_type": "code",
   "execution_count": 253,
   "metadata": {},
   "outputs": [],
   "source": [
    "fig_config = {\n",
    "    \"data\" : [{\n",
    "        \"type\" : \"scatter\",\n",
    "        \"x\" : pivot_seoul_pasgr.index,\n",
    "        \"y\" : pivot_seoul_pasgr[\"ride_pasgr\"][\"1호선\"],\n",
    "        }],\n",
    "    \"layout\" : {\n",
    "        \"title\" : {\n",
    "            \"text\" : \"Line 1 Ride Passengers Trend during COVID-19\",\n",
    "            \"x\" : 0.5,\n",
    "            \"font\" : {\"color\":\"red\", \"size\":15}\n",
    "        }\n",
    "    }\n",
    "}\n",
    "\n",
    "fig = go.Figure(fig_config)"
   ]
  }
 ],
 "metadata": {
  "kernelspec": {
   "display_name": "Python 3",
   "language": "python",
   "name": "python3"
  },
  "language_info": {
   "codemirror_mode": {
    "name": "ipython",
    "version": 3
   },
   "file_extension": ".py",
   "mimetype": "text/x-python",
   "name": "python",
   "nbconvert_exporter": "python",
   "pygments_lexer": "ipython3",
   "version": "3.7.7"
  }
 },
 "nbformat": 4,
 "nbformat_minor": 4
}
