{
 "cells": [
  {
   "cell_type": "code",
   "execution_count": 1,
   "metadata": {},
   "outputs": [
    {
     "name": "stdout",
     "output_type": "stream",
     "text": [
      "Collecting cassandra-driver\n",
      "  Downloading cassandra_driver-3.23.0-cp37-cp37m-win_amd64.whl (3.0 MB)\n",
      "Collecting geomet<0.2,>=0.1\n",
      "  Downloading geomet-0.1.2.tar.gz (11 kB)\n",
      "Requirement already satisfied: six>=1.9 in d:\\anaconda\\lib\\site-packages (from cassandra-driver) (1.14.0)\n",
      "Requirement already satisfied: click in d:\\anaconda\\lib\\site-packages (from geomet<0.2,>=0.1->cassandra-driver) (7.0)\n",
      "Building wheels for collected packages: geomet\n",
      "  Building wheel for geomet (setup.py): started\n",
      "  Building wheel for geomet (setup.py): finished with status 'done'\n",
      "  Created wheel for geomet: filename=geomet-0.1.2-py3-none-any.whl size=14902 sha256=b0943fc8060ade46f7e471f18c0b31bb9cc6c934f73a5e8c1c311c30682109c8\n",
      "  Stored in directory: c:\\users\\minae\\appdata\\local\\pip\\cache\\wheels\\e9\\eb\\92\\8464b4ce12209717c1728cbdc7bf3862f4a080e484701406c6\n",
      "Successfully built geomet\n",
      "Installing collected packages: geomet, cassandra-driver\n",
      "Successfully installed cassandra-driver-3.23.0 geomet-0.1.2\n"
     ]
    }
   ],
   "source": [
    "!pip install cassandra-driver"
   ]
  },
  {
   "cell_type": "code",
   "execution_count": 2,
   "metadata": {},
   "outputs": [],
   "source": [
    "import cassandra"
   ]
  },
  {
   "cell_type": "code",
   "execution_count": 3,
   "metadata": {},
   "outputs": [],
   "source": [
    "from cassandra.cluster import Cluster"
   ]
  },
  {
   "cell_type": "code",
   "execution_count": 4,
   "metadata": {},
   "outputs": [
    {
     "name": "stdout",
     "output_type": "stream",
     "text": [
      "('Unable to connect to any servers', {'127.0.0.1:9042': ConnectionRefusedError(10061, \"Tried connecting to [('127.0.0.1', 9042)]. Last error: 대상 컴퓨터에서 연결을 거부했으므로 연결하지 못했습니다\")})\n"
     ]
    }
   ],
   "source": [
    "try:\n",
    "    cluster = Cluster(['127.0.0.1'])\n",
    "    session = cluster.connect()\n",
    "except Exception as e:\n",
    "    print(e)"
   ]
  },
  {
   "cell_type": "code",
   "execution_count": null,
   "metadata": {},
   "outputs": [],
   "source": []
  }
 ],
 "metadata": {
  "kernelspec": {
   "display_name": "Python 3",
   "language": "python",
   "name": "python3"
  },
  "language_info": {
   "codemirror_mode": {
    "name": "ipython",
    "version": 3
   },
   "file_extension": ".py",
   "mimetype": "text/x-python",
   "name": "python",
   "nbconvert_exporter": "python",
   "pygments_lexer": "ipython3",
   "version": "3.7.6"
  }
 },
 "nbformat": 4,
 "nbformat_minor": 4
}
